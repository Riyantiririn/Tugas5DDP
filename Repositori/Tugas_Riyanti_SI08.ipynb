{
  "nbformat": 4,
  "nbformat_minor": 0,
  "metadata": {
    "colab": {
      "provenance": [],
      "authorship_tag": "ABX9TyNL6aekgygoA9bGpPB+04Iy",
      "include_colab_link": true
    },
    "kernelspec": {
      "name": "python3",
      "display_name": "Python 3"
    },
    "language_info": {
      "name": "python"
    }
  },
  "cells": [
    {
      "cell_type": "markdown",
      "metadata": {
        "id": "view-in-github",
        "colab_type": "text"
      },
      "source": [
        "<a href=\"https://colab.research.google.com/github/Riyantiririn/Tugas5DDP/blob/main/Repositori/Tugas_Riyanti_SI08.ipynb\" target=\"_parent\"><img src=\"https://colab.research.google.com/assets/colab-badge.svg\" alt=\"Open In Colab\"/></a>"
      ]
    },
    {
      "cell_type": "code",
      "source": [
        "Mobil = [\"mobil\", \"sedan\", \"toyota\", \"200cc\"]\n",
        "print(Mobil)\n",
        "\n",
        "Mobil.append(\"Biru\")\n",
        "Mobil.append(\"4\")\n",
        "Mobil.append(\"3.000.000.000\")\n",
        "\n",
        "print(Mobil)\n",
        "\n",
        "pilihan = int(input(\"\"\"Silahkan pilih tools dibawah ini dengan mengirimkan nomornya\n",
        "======================================\n",
        "Tools yang tersedia\n",
        "======================================\n",
        "1. Menghitung luas persegi\n",
        "2. Menghitung luas lingkaran\n",
        "3. Menghitung luas segitiga\n",
        "Pilihanmu? \"\"\"))\n",
        "\n",
        "match pilihan:\n",
        "    case 1:\n",
        "        print(\"Anda memilih menghitung luas persegi.\")\n",
        "        sisi = float(input(\"Masukkan panjang sisi persegi: \"))\n",
        "        luas_persegi = sisi ** 2\n",
        "        print(\"Luas persegi adalah:\", luas_persegi)\n",
        "    case 2:\n",
        "        print(\"Anda memilih menghitung luas lingkaran.\")\n",
        "        jari_jari = float(input(\"Masukkan jari-jari lingkaran: \"))\n",
        "        luas_lingkaran = 3.14159 * jari_jari ** 2\n",
        "        print(\"Luas lingkaran adalah:\", luas_lingkaran)\n",
        "    case 3:\n",
        "        print(\"Anda memilih menghitung luas segitiga.\")\n",
        "        alas = float(input(\"Masukkan panjang alas segitiga: \"))\n",
        "        tinggi = float(input(\"Masukkan tinggi segitiga: \"))\n",
        "        luas_segitiga = 0.5 * alas * tinggi\n",
        "        print(\"Luas segitiga adalah:\", luas_segitiga)\n",
        "    case _:\n",
        "        print(\"Pilihan tidak valid.\")\n",
        "\n"
      ],
      "metadata": {
        "colab": {
          "base_uri": "https://localhost:8080/"
        },
        "id": "6xDZ-cVPNICj",
        "outputId": "313c982e-d27c-4837-c07d-686947231ee6"
      },
      "execution_count": null,
      "outputs": [
        {
          "output_type": "stream",
          "name": "stdout",
          "text": [
            "['mobil', 'sedan', 'toyota', '200cc']\n",
            "['mobil', 'sedan', 'toyota', '200cc', 'Biru', '4', '3.000.000.000']\n"
          ]
        }
      ]
    }
  ]
}